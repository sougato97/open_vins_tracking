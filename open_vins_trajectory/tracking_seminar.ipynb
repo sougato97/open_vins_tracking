{
 "cells": [
  {
   "cell_type": "code",
   "execution_count": 1,
   "metadata": {},
   "outputs": [],
   "source": [
    "from scripts import *\n",
    "# from read import *\n",
    "from plots import *\n",
    "# from tools import *"
   ]
  },
  {
   "cell_type": "code",
   "execution_count": 2,
   "metadata": {},
   "outputs": [
    {
     "name": "stdout",
     "output_type": "stream",
     "text": [
      "For the frequency of  euroc_100hz\n",
      "The deviation in VIO path and the groundtruth is:- 2.2958925016816445\n",
      "For the frequency of  euroc_20hz\n",
      "The deviation in VIO path and the groundtruth is:- 2.295433640091998\n",
      "For the frequency of  60hz\n",
      "The deviation in VIO path and the groundtruth is:- 2.2900346437997396\n",
      "For the frequency of  20hz_loop_closing\n",
      "The deviation in VIO path and the groundtruth is:- 2.2958925016816445\n",
      "For the frequency of  tum_vi_20hz\n",
      "The deviation in VIO path and the groundtruth is:- 2.2672104064082808\n",
      "For the frequency of  20hz\n",
      "The deviation in VIO path and the groundtruth is:- 2.2958925016816445\n",
      "For the frequency of  tum_vi_100hz\n",
      "The deviation in VIO path and the groundtruth is:- 2.2693368351218823\n",
      "For the frequency of  40hz\n",
      "The deviation in VIO path and the groundtruth is:- 2.2962196365038774\n",
      "For the frequency of  10hz\n",
      "The deviation in VIO path and the groundtruth is:- 2.2958925016816445\n"
     ]
    }
   ],
   "source": [
    "pose_error(\"V1_01_easy.txt\")"
   ]
  },
  {
   "cell_type": "code",
   "execution_count": 3,
   "metadata": {},
   "outputs": [
    {
     "name": "stdout",
     "output_type": "stream",
     "text": [
      "For the frequency of  euroc_100hz\n",
      "The deviation in VIO path and the groundtruth is:- 1.079058205950448\n",
      "For the frequency of  euroc_20hz\n",
      "The deviation in VIO path and the groundtruth is:- 1.077776694643654\n",
      "For the frequency of  60hz\n",
      "The deviation in VIO path and the groundtruth is:- 1.0739048462401126\n",
      "For the frequency of  20hz_loop_closing\n",
      "The deviation in VIO path and the groundtruth is:- 1.079058205950448\n",
      "For the frequency of  tum_vi_20hz\n",
      "The deviation in VIO path and the groundtruth is:- 1.306933960504891\n",
      "For the frequency of  20hz\n",
      "The deviation in VIO path and the groundtruth is:- 1.079058205950448\n",
      "For the frequency of  tum_vi_100hz\n",
      "The deviation in VIO path and the groundtruth is:- 1.2565263662343102\n",
      "For the frequency of  40hz\n",
      "The deviation in VIO path and the groundtruth is:- 1.0791569282495481\n",
      "For the frequency of  10hz\n",
      "The deviation in VIO path and the groundtruth is:- 1.079058205950448\n"
     ]
    }
   ],
   "source": [
    "pose_error(\"dataset-room1_512_16.txt\")"
   ]
  },
  {
   "cell_type": "code",
   "execution_count": 4,
   "metadata": {},
   "outputs": [
    {
     "name": "stdout",
     "output_type": "stream",
     "text": [
      "For the frequency of  euroc_100hz\n",
      "For  tracking  module\n",
      "min --- avg --- max\n",
      "0.00229 --- 0.007077201722017188 --- 0.03298\n",
      "\n",
      "\n",
      "For  propagation  module\n",
      "min --- avg --- max\n",
      "8e-05 --- 0.00021242312423124204 --- 0.00286\n",
      "\n",
      "\n",
      "For  msckf update  module\n",
      "min --- avg --- max\n",
      "1e-05 --- 0.0011566666666666674 --- 0.0164\n",
      "\n",
      "\n",
      "For  slam update  module\n",
      "min --- avg --- max\n",
      "0.0 --- 0.003554501845018448 --- 0.01178\n",
      "\n",
      "\n",
      "For  slam delayed  module\n",
      "min --- avg --- max\n",
      "0.0 --- 0.0017561439114391157 --- 0.02792\n",
      "\n",
      "\n",
      "For  re-tri & marg  module\n",
      "min --- avg --- max\n",
      "0.0002 --- 0.0006184194341943421 --- 0.00444\n",
      "\n",
      "\n",
      "For  total  module\n",
      "min --- avg --- max\n",
      "0.0039 --- 0.014376549815498149 --- 0.05061\n",
      "\n",
      "\n",
      "For the frequency of  euroc_20hz\n",
      "For  tracking  module\n",
      "min --- avg --- max\n",
      "0.00228 --- 0.004025239285714282 --- 0.02004\n",
      "\n",
      "\n",
      "For  propagation  module\n",
      "min --- avg --- max\n",
      "8e-05 --- 0.00018397500000000196 --- 0.00152\n",
      "\n",
      "\n",
      "For  msckf update  module\n",
      "min --- avg --- max\n",
      "1e-05 --- 0.0012779071428571445 --- 0.01693\n",
      "\n",
      "\n",
      "For  slam update  module\n",
      "min --- avg --- max\n",
      "0.0 --- 0.005358035714285716 --- 0.00949\n",
      "\n",
      "\n",
      "For  slam delayed  module\n",
      "min --- avg --- max\n",
      "0.0 --- 0.0010138249999999994 --- 0.02102\n",
      "\n",
      "\n",
      "For  re-tri & marg  module\n",
      "min --- avg --- max\n",
      "0.0002 --- 0.0005623357142857132 --- 0.00184\n",
      "\n",
      "\n",
      "For  total  module\n",
      "min --- avg --- max\n",
      "0.00496 --- 0.012423164285714295 --- 0.03707\n",
      "\n",
      "\n",
      "For the frequency of  60hz\n",
      "For  tracking  module\n",
      "min --- avg --- max\n",
      "0.00244 --- 0.0039046726773814128 --- 0.01182\n",
      "\n",
      "\n",
      "For  propagation  module\n",
      "min --- avg --- max\n",
      "9e-05 --- 0.00022695021560172502 --- 0.0007\n",
      "\n",
      "\n",
      "For  msckf update  module\n",
      "min --- avg --- max\n",
      "1e-05 --- 0.0013243473147785162 --- 0.01536\n",
      "\n",
      "\n",
      "For  slam update  module\n",
      "min --- avg --- max\n",
      "0.0 --- 0.005282156017248144 --- 0.01153\n",
      "\n",
      "\n",
      "For  slam delayed  module\n",
      "min --- avg --- max\n",
      "0.0 --- 0.0012270090160721278 --- 0.01933\n",
      "\n",
      "\n",
      "For  re-tri & marg  module\n",
      "min --- avg --- max\n",
      "0.00019 --- 0.0006842845942767541 --- 0.00227\n",
      "\n",
      "\n",
      "For  total  module\n",
      "min --- avg --- max\n",
      "0.00382 --- 0.012651132889063124 --- 0.03603\n",
      "\n",
      "\n",
      "For the frequency of  20hz_loop_closing\n",
      "For  tracking  module\n",
      "min --- avg --- max\n",
      "0.00241 --- 0.0037830928571428606 --- 0.01026\n",
      "\n",
      "\n",
      "For  propagation  module\n",
      "min --- avg --- max\n",
      "0.00011 --- 0.00022842500000000104 --- 0.00084\n",
      "\n",
      "\n",
      "For  msckf update  module\n",
      "min --- avg --- max\n",
      "1e-05 --- 0.001370532142857146 --- 0.02317\n",
      "\n",
      "\n",
      "For  slam update  module\n",
      "min --- avg --- max\n",
      "0.0 --- 0.005779478571428561 --- 0.01205\n",
      "\n",
      "\n",
      "For  slam delayed  module\n",
      "min --- avg --- max\n",
      "0.0 --- 0.0011496928571428575 --- 0.0192\n",
      "\n",
      "\n",
      "For  re-tri & marg  module\n",
      "min --- avg --- max\n",
      "0.00021 --- 0.0006570642857142843 --- 0.00286\n",
      "\n",
      "\n",
      "For  total  module\n",
      "min --- avg --- max\n",
      "0.00494 --- 0.012969828571428609 --- 0.03638\n",
      "\n",
      "\n",
      "For the frequency of  tum_vi_20hz\n",
      "For  tracking  module\n",
      "min --- avg --- max\n",
      "0.00245 --- 0.004398019362646222 --- 0.02085\n",
      "\n",
      "\n",
      "For  propagation  module\n",
      "min --- avg --- max\n",
      "9e-05 --- 0.00015574021782977025 --- 0.00325\n",
      "\n",
      "\n",
      "For  msckf update  module\n",
      "min --- avg --- max\n",
      "3e-05 --- 0.0010756998789834616 --- 0.01467\n",
      "\n",
      "\n",
      "For  slam update  module\n",
      "min --- avg --- max\n",
      "0.0 --- 0.0026539249697458663 --- 0.00874\n",
      "\n",
      "\n",
      "For  slam delayed  module\n",
      "min --- avg --- max\n",
      "0.0 --- 0.0014248850342880202 --- 0.02669\n",
      "\n",
      "\n",
      "For  re-tri & marg  module\n",
      "min --- avg --- max\n",
      "0.00029 --- 0.0005241831383622409 --- 0.00171\n",
      "\n",
      "\n",
      "For  total  module\n",
      "min --- avg --- max\n",
      "0.00321 --- 0.010233364259782187 --- 0.03265\n",
      "\n",
      "\n",
      "For the frequency of  20hz\n",
      "For  tracking  module\n",
      "min --- avg --- max\n",
      "0.00254 --- 0.004048875 --- 0.01119\n",
      "\n",
      "\n",
      "For  propagation  module\n",
      "min --- avg --- max\n",
      "0.0001 --- 0.00024907499999999856 --- 0.00141\n",
      "\n",
      "\n",
      "For  msckf update  module\n",
      "min --- avg --- max\n",
      "1e-05 --- 0.0014553214285714287 --- 0.02245\n",
      "\n",
      "\n",
      "For  slam update  module\n",
      "min --- avg --- max\n",
      "0.0 --- 0.006192514285714295 --- 0.0146\n",
      "\n",
      "\n",
      "For  slam delayed  module\n",
      "min --- avg --- max\n",
      "0.0 --- 0.0012208642857142865 --- 0.0223\n",
      "\n",
      "\n",
      "For  re-tri & marg  module\n",
      "min --- avg --- max\n",
      "0.0002 --- 0.0008463785714285702 --- 0.00449\n",
      "\n",
      "\n",
      "For  total  module\n",
      "min --- avg --- max\n",
      "0.00432 --- 0.014014714285714307 --- 0.04559\n",
      "\n",
      "\n",
      "For the frequency of  tum_vi_100hz\n",
      "For  tracking  module\n",
      "min --- avg --- max\n",
      "0.00248 --- 0.005874729276473411 --- 0.03583\n",
      "\n",
      "\n",
      "For  propagation  module\n",
      "min --- avg --- max\n",
      "9e-05 --- 0.00016465740297077108 --- 0.00212\n",
      "\n",
      "\n",
      "For  msckf update  module\n",
      "min --- avg --- max\n",
      "2e-05 --- 0.00110381887877336 --- 0.01291\n",
      "\n",
      "\n",
      "For  slam update  module\n",
      "min --- avg --- max\n",
      "0.0 --- 0.0020547532343076235 --- 0.01065\n",
      "\n",
      "\n",
      "For  slam delayed  module\n",
      "min --- avg --- max\n",
      "0.0 --- 0.0014768183996166763 --- 0.01491\n",
      "\n",
      "\n",
      "For  re-tri & marg  module\n",
      "min --- avg --- max\n",
      "0.00027 --- 0.0005923622424532816 --- 0.00685\n",
      "\n",
      "\n",
      "For  total  module\n",
      "min --- avg --- max\n",
      "0.00366 --- 0.011268428366075693 --- 0.04403\n",
      "\n",
      "\n",
      "For the frequency of  40hz\n",
      "For  tracking  module\n",
      "min --- avg --- max\n",
      "0.00247 --- 0.0039035430818734358 --- 0.01209\n",
      "\n",
      "\n",
      "For  propagation  module\n",
      "min --- avg --- max\n",
      "0.0001 --- 0.00022231319270647114 --- 0.00067\n",
      "\n",
      "\n",
      "For  msckf update  module\n",
      "min --- avg --- max\n",
      "1e-05 --- 0.001349163389345731 --- 0.01765\n",
      "\n",
      "\n",
      "For  slam update  module\n",
      "min --- avg --- max\n",
      "0.0 --- 0.005663292813728985 --- 0.01054\n",
      "\n",
      "\n",
      "For  slam delayed  module\n",
      "min --- avg --- max\n",
      "0.0 --- 0.001102820879513767 --- 0.01868\n",
      "\n",
      "\n",
      "For  re-tri & marg  module\n",
      "min --- avg --- max\n",
      "0.00019 --- 0.0006328566321058276 --- 0.00191\n",
      "\n",
      "\n",
      "For  total  module\n",
      "min --- avg --- max\n",
      "0.00535 --- 0.01287571683947088 --- 0.0355\n",
      "\n",
      "\n",
      "For the frequency of  10hz\n",
      "For  tracking  module\n",
      "min --- avg --- max\n",
      "0.00236 --- 0.0035840285714285576 --- 0.01247\n",
      "\n",
      "\n",
      "For  propagation  module\n",
      "min --- avg --- max\n",
      "0.00011 --- 0.00021173928571428734 --- 0.00079\n",
      "\n",
      "\n",
      "For  msckf update  module\n",
      "min --- avg --- max\n",
      "1e-05 --- 0.0013187428571428514 --- 0.02213\n",
      "\n",
      "\n",
      "For  slam update  module\n",
      "min --- avg --- max\n",
      "0.0 --- 0.005570657142857126 --- 0.01721\n",
      "\n",
      "\n",
      "For  slam delayed  module\n",
      "min --- avg --- max\n",
      "0.0 --- 0.0010729785714285736 --- 0.01728\n",
      "\n",
      "\n",
      "For  re-tri & marg  module\n",
      "min --- avg --- max\n",
      "0.00018 --- 0.0006218285714285712 --- 0.00219\n",
      "\n",
      "\n",
      "For  total  module\n",
      "min --- avg --- max\n",
      "0.00496 --- 0.0123817035714286 --- 0.04707\n",
      "\n",
      "\n"
     ]
    }
   ],
   "source": [
    "find_delays_all_modules()"
   ]
  },
  {
   "cell_type": "code",
   "execution_count": 5,
   "metadata": {},
   "outputs": [],
   "source": [
    "# for directories in os.listdir(os.getcwd()): \n",
    "#     if ('hz' in directories):\n",
    "#         print(directories,\" Yes\")\n",
    "#     else:\n",
    "#         print(directories,\" No\")"
   ]
  },
  {
   "cell_type": "markdown",
   "metadata": {},
   "source": [
    "Import the open_vins_file"
   ]
  },
  {
   "cell_type": "code",
   "execution_count": 6,
   "metadata": {},
   "outputs": [],
   "source": [
    "folder_name = 'euroc_20hz'\n",
    "file = os.getcwd() + '/' + folder_name + '/traj_estimate.txt'\n",
    "euroc = pd.read_csv(file, delimiter=' ')\n",
    "euroc_gt = pd.read_csv('V1_01_easy.txt', delimiter=' ')\n",
    "np_table = euroc.to_numpy()"
   ]
  },
  {
   "cell_type": "code",
   "execution_count": 7,
   "metadata": {},
   "outputs": [],
   "source": [
    "# euroc"
   ]
  },
  {
   "cell_type": "markdown",
   "metadata": {},
   "source": [
    "Import the open_vins groundtruth"
   ]
  },
  {
   "cell_type": "code",
   "execution_count": 8,
   "metadata": {},
   "outputs": [],
   "source": [
    "# euroc_gt"
   ]
  },
  {
   "cell_type": "markdown",
   "metadata": {},
   "source": [
    "Tracking module"
   ]
  },
  {
   "cell_type": "code",
   "execution_count": 9,
   "metadata": {},
   "outputs": [],
   "source": [
    "# tracking_min, tracking_avg, tracking = find_timebounds(np_table,1)"
   ]
  },
  {
   "cell_type": "markdown",
   "metadata": {},
   "source": [
    "Propagation module"
   ]
  },
  {
   "cell_type": "code",
   "execution_count": 10,
   "metadata": {},
   "outputs": [],
   "source": [
    "# for num in reversed(range(6)) :\n",
    "#     print(num, end = \" \")"
   ]
  },
  {
   "cell_type": "markdown",
   "metadata": {},
   "source": [
    "Plot Trajectories "
   ]
  },
  {
   "cell_type": "code",
   "execution_count": 11,
   "metadata": {},
   "outputs": [],
   "source": [
    "folder_name = 'euroc_20hz'\n",
    "euroc_file = os.getcwd() + '/' + folder_name + '/traj_estimate.txt'\n",
    "gt_file = 'V1_01_easy.txt'\n",
    "\n",
    "euroc_gt = read_2d(gt_file,' ')\n",
    "euroc = read_2d(euroc_file,' ')\n",
    "\n",
    "# plot_trajectories_2d('OPEN_VINS Trajectory', euroc) # considering Timestamp,PositionX,PositionY,Null\n",
    "# plot_trajectories_2d('Goundtruth  Trajectory', euroc)"
   ]
  },
  {
   "cell_type": "code",
   "execution_count": 12,
   "metadata": {},
   "outputs": [
    {
     "data": {
      "image/png": "[encoded data removed]",
      "text/plain": [
       "<Figure size 432x288 with 1 Axes>"
      ]
     },
     "metadata": {
      "needs_background": "light"
     },
     "output_type": "display_data"
    }
   ],
   "source": [
    "euroc_openvins_gt, euroc_openvins_estimated_60, euroc_openvins_estimated_rms_60 = analyze(euroc_gt, euroc)\n",
    "plot_trajectories_2d('OPENVINS(EUROC): GT vs state_estimate(20hz) ', euroc_openvins_gt, euroc_openvins_estimated_60)"
   ]
  },
  {
   "cell_type": "markdown",
   "metadata": {},
   "source": [
    "Finding out the ATE"
   ]
  },
  {
   "cell_type": "code",
   "execution_count": 13,
   "metadata": {},
   "outputs": [
    {
     "ename": "NameError",
     "evalue": "name 'analyze' is not defined",
     "output_type": "error",
     "traceback": [
      "\u001b[0;31m---------------------------------------------------------------------------\u001b[0m",
      "\u001b[0;31mNameError\u001b[0m                                 Traceback (most recent call last)",
      "\u001b[1;32m/home/sougato97/documents/open_vins_tracking/open_vins_trajectory/tracking_seminar.ipynb Cell 19\u001b[0m in \u001b[0;36m<cell line: 1>\u001b[0;34m()\u001b[0m\n\u001b[0;32m----> <a href='vscode-notebook-cell://wsl%2Bubuntu-20.04/home/sougato97/documents/open_vins_tracking/open_vins_trajectory/tracking_seminar.ipynb#X32sdnNjb2RlLXJlbW90ZQ%3D%3D?line=0'>1</a>\u001b[0m euroc_rms_error, plt \u001b[39m=\u001b[39m ate(gt_file,euroc_file,plt)\n",
      "File \u001b[0;32m~/documents/open_vins_tracking/open_vins_trajectory/scripts.py:141\u001b[0m, in \u001b[0;36mate\u001b[0;34m(gt_file, euroc_file, plt)\u001b[0m\n\u001b[1;32m    138\u001b[0m gt \u001b[39m=\u001b[39m read_3d(gt_file)\n\u001b[1;32m    139\u001b[0m euroc_3d \u001b[39m=\u001b[39m read_3d(euroc_file)\n\u001b[0;32m--> 141\u001b[0m gt, euroc_3d, euroc_3d_rms \u001b[39m=\u001b[39m analyze(gt, euroc_3d)\n\u001b[1;32m    143\u001b[0m euroc_3d, s \u001b[39m=\u001b[39m scale(gt, euroc_3d)\n\u001b[1;32m    144\u001b[0m \u001b[39m# slam2 = slam2 / s\u001b[39;00m\n\u001b[1;32m    145\u001b[0m \n\u001b[1;32m    146\u001b[0m \u001b[39m# slam2_mean, slam2_std = rms(gt[:,1:], slam2[:,1:])\u001b[39;00m\n",
      "\u001b[0;31mNameError\u001b[0m: name 'analyze' is not defined"
     ]
    }
   ],
   "source": [
    "euroc_rms_error, plt = ate(gt_file,euroc_file,plt)"
   ]
  },
  {
   "cell_type": "code",
   "execution_count": 30,
   "metadata": {},
   "outputs": [
    {
     "name": "stdout",
     "output_type": "stream",
     "text": [
      "[0.0457131]\n"
     ]
    }
   ],
   "source": [
    "print(euroc_rms_error[0])"
   ]
  },
  {
   "cell_type": "code",
   "execution_count": 16,
   "metadata": {},
   "outputs": [],
   "source": [
    "gt = read_3d(gt_file)\n",
    "euroc_3d = read_3d(euroc_file)\n",
    "\n",
    "gt, euroc_3d, euroc_3d_rms = analyze(gt, euroc_3d)\n",
    "\n",
    "euroc_3d, s = scale(gt, euroc_3d)\n",
    "# slam2 = slam2 / s\n",
    "\n",
    "# slam2_mean, slam2_std = rms(gt[:,1:], slam2[:,1:])\n",
    "euroc_3d_mean, euroc_3d_std = rms(gt[:,1:], euroc_3d[:,1:])"
   ]
  },
  {
   "cell_type": "code",
   "execution_count": 17,
   "metadata": {},
   "outputs": [
    {
     "name": "stdout",
     "output_type": "stream",
     "text": [
      "[[0.0457131]]\n"
     ]
    }
   ],
   "source": [
    "euroc_rms_error = [ [euroc_3d_rms]\n",
    "                ]\n",
    "\n",
    "euroc_rms_error = np.asarray(euroc_rms_error, dtype=np.float64)\n",
    "\n",
    "print(euroc_rms_error) # how is this calculation done??"
   ]
  },
  {
   "cell_type": "code",
   "execution_count": 18,
   "metadata": {},
   "outputs": [
    {
     "data": {
      "image/png": "[encoded data removed]",
      "text/plain": [
       "<Figure size 432x288 with 1 Axes>"
      ]
     },
     "metadata": {
      "needs_background": "light"
     },
     "output_type": "display_data"
    }
   ],
   "source": [
    "import matplotlib.pyplot as plt\n",
    "fig = plt.figure()\n",
    "ax = fig.add_subplot(111)\n",
    "ax.yaxis.grid(True)\n",
    "\n",
    "error_config = {'ecolor': 'r', 'capsize': 5, 'elinewidth': 3}\n",
    "\n",
    "opacity = 0.6\n",
    "ax.set_ylabel('Mean absolute trajectory error')\n",
    "#ax.set_title('Mean Absolute Trajectory Error for ORB-SLAM2 and Edge-SLAM')\n",
    "\n",
    "line = plt.bar([0], [euroc_3d_mean], 1, alpha=opacity, yerr=(euroc_3d_std), error_kw=error_config, color='b')\n",
    "\n",
    "ax.set_xlabel('SLAM System')\n",
    "# plt.xticks([0], ('OPEN_VINS'))\n",
    "fig.tight_layout()\n",
    "\n",
    "plt.show()"
   ]
  },
  {
   "cell_type": "code",
   "execution_count": null,
   "metadata": {},
   "outputs": [],
   "source": []
  }
 ],
 "metadata": {
  "kernelspec": {
   "display_name": "Python 3.10.4 ('opencv')",
   "language": "python",
   "name": "python3"
  },
  "language_info": {
   "codemirror_mode": {
    "name": "ipython",
    "version": 3
   },
   "file_extension": ".py",
   "mimetype": "text/x-python",
   "name": "python",
   "nbconvert_exporter": "python",
   "pygments_lexer": "ipython3",
   "version": "3.10.4"
  },
  "orig_nbformat": 4,
  "vscode": {
   "interpreter": {
    "hash": "1ceb3d7fd3450c15512137f0f25e60ea460dec882d47252fddea2c1034783d5c"
   }
  }
 },
 "nbformat": 4,
 "nbformat_minor": 2
}
