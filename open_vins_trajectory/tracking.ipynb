{
 "cells": [
  {
   "cell_type": "code",
   "execution_count": 1,
   "metadata": {},
   "outputs": [],
   "source": [
    "import os \n",
    "import pandas as pd\n",
    "import numpy as np"
   ]
  },
  {
   "cell_type": "markdown",
   "metadata": {},
   "source": [
    "1. Define the functions"
   ]
  },
  {
   "cell_type": "code",
   "execution_count": 30,
   "metadata": {},
   "outputs": [],
   "source": [
    "def find_timebounds(arr,index):\n",
    "    h, b = arr.shape\n",
    "    avg = 0.0\n",
    "    min = 1000.0 \n",
    "    max = -1.0 \n",
    "    for i in range(b):\n",
    "        if (i == index):\n",
    "            for j in range(h):\n",
    "                avg += arr[j,i]\n",
    "                if (arr[j,i] < min):\n",
    "                    min = arr[j,i]\n",
    "                elif (arr[j,i] > max):\n",
    "                    max = arr[j,i]\n",
    "    avg = avg/h\n",
    "    min_margin = avg - min\n",
    "    max_margin = max - min\n",
    "    print(\"min --- avg --- max\")    \n",
    "    print(min,\"---\",avg,\"---\",max)\n",
    "    return min_margin, avg, max_margin\n",
    "\n",
    "def track_all_modules():\n",
    "    "
   ]
  },
  {
   "cell_type": "markdown",
   "metadata": {},
   "source": [
    "2. Import the file"
   ]
  },
  {
   "cell_type": "code",
   "execution_count": 32,
   "metadata": {},
   "outputs": [],
   "source": [
    "folder_name = '20hz'\n",
    "file = os.getcwd() + '/' + folder_name + '/traj_timing.txt'\n",
    "df = pd.read_csv(file, delimiter=',')\n",
    "np_table = df.to_numpy()"
   ]
  },
  {
   "cell_type": "code",
   "execution_count": 4,
   "metadata": {},
   "outputs": [
    {
     "data": {
      "text/html": [
       "<div>\n",
       "<style scoped>\n",
       "    .dataframe tbody tr th:only-of-type {\n",
       "        vertical-align: middle;\n",
       "    }\n",
       "\n",
       "    .dataframe tbody tr th {\n",
       "        vertical-align: top;\n",
       "    }\n",
       "\n",
       "    .dataframe thead th {\n",
       "        text-align: right;\n",
       "    }\n",
       "</style>\n",
       "<table border=\"1\" class=\"dataframe\">\n",
       "  <thead>\n",
       "    <tr style=\"text-align: right;\">\n",
       "      <th></th>\n",
       "      <th># timestamp (sec)</th>\n",
       "      <th>tracking</th>\n",
       "      <th>propagation</th>\n",
       "      <th>msckf update</th>\n",
       "      <th>slam update</th>\n",
       "      <th>slam delayed</th>\n",
       "      <th>re-tri &amp; marg</th>\n",
       "      <th>total</th>\n",
       "    </tr>\n",
       "  </thead>\n",
       "  <tbody>\n",
       "    <tr>\n",
       "      <th>0</th>\n",
       "      <td>1.403715e+09</td>\n",
       "      <td>0.00330</td>\n",
       "      <td>0.00010</td>\n",
       "      <td>0.00067</td>\n",
       "      <td>0.00000</td>\n",
       "      <td>0.00000</td>\n",
       "      <td>0.00025</td>\n",
       "      <td>0.00432</td>\n",
       "    </tr>\n",
       "    <tr>\n",
       "      <th>1</th>\n",
       "      <td>1.403715e+09</td>\n",
       "      <td>0.00382</td>\n",
       "      <td>0.00011</td>\n",
       "      <td>0.00325</td>\n",
       "      <td>0.00000</td>\n",
       "      <td>0.00713</td>\n",
       "      <td>0.00032</td>\n",
       "      <td>0.01463</td>\n",
       "    </tr>\n",
       "    <tr>\n",
       "      <th>2</th>\n",
       "      <td>1.403715e+09</td>\n",
       "      <td>0.00317</td>\n",
       "      <td>0.00016</td>\n",
       "      <td>0.00029</td>\n",
       "      <td>0.00241</td>\n",
       "      <td>0.00000</td>\n",
       "      <td>0.00021</td>\n",
       "      <td>0.00624</td>\n",
       "    </tr>\n",
       "    <tr>\n",
       "      <th>3</th>\n",
       "      <td>1.403715e+09</td>\n",
       "      <td>0.00348</td>\n",
       "      <td>0.00015</td>\n",
       "      <td>0.00005</td>\n",
       "      <td>0.00228</td>\n",
       "      <td>0.00000</td>\n",
       "      <td>0.00020</td>\n",
       "      <td>0.00616</td>\n",
       "    </tr>\n",
       "    <tr>\n",
       "      <th>4</th>\n",
       "      <td>1.403715e+09</td>\n",
       "      <td>0.00274</td>\n",
       "      <td>0.00014</td>\n",
       "      <td>0.00014</td>\n",
       "      <td>0.00237</td>\n",
       "      <td>0.00000</td>\n",
       "      <td>0.00021</td>\n",
       "      <td>0.00560</td>\n",
       "    </tr>\n",
       "    <tr>\n",
       "      <th>...</th>\n",
       "      <td>...</td>\n",
       "      <td>...</td>\n",
       "      <td>...</td>\n",
       "      <td>...</td>\n",
       "      <td>...</td>\n",
       "      <td>...</td>\n",
       "      <td>...</td>\n",
       "      <td>...</td>\n",
       "    </tr>\n",
       "    <tr>\n",
       "      <th>2795</th>\n",
       "      <td>1.403715e+09</td>\n",
       "      <td>0.00623</td>\n",
       "      <td>0.00019</td>\n",
       "      <td>0.00010</td>\n",
       "      <td>0.00467</td>\n",
       "      <td>0.00101</td>\n",
       "      <td>0.00107</td>\n",
       "      <td>0.01327</td>\n",
       "    </tr>\n",
       "    <tr>\n",
       "      <th>2796</th>\n",
       "      <td>1.403715e+09</td>\n",
       "      <td>0.00542</td>\n",
       "      <td>0.00024</td>\n",
       "      <td>0.00004</td>\n",
       "      <td>0.00446</td>\n",
       "      <td>0.00128</td>\n",
       "      <td>0.00173</td>\n",
       "      <td>0.01318</td>\n",
       "    </tr>\n",
       "    <tr>\n",
       "      <th>2797</th>\n",
       "      <td>1.403715e+09</td>\n",
       "      <td>0.00445</td>\n",
       "      <td>0.00017</td>\n",
       "      <td>0.00223</td>\n",
       "      <td>0.00460</td>\n",
       "      <td>0.00312</td>\n",
       "      <td>0.00126</td>\n",
       "      <td>0.01582</td>\n",
       "    </tr>\n",
       "    <tr>\n",
       "      <th>2798</th>\n",
       "      <td>1.403715e+09</td>\n",
       "      <td>0.00473</td>\n",
       "      <td>0.00018</td>\n",
       "      <td>0.00006</td>\n",
       "      <td>0.00538</td>\n",
       "      <td>0.00000</td>\n",
       "      <td>0.00095</td>\n",
       "      <td>0.01130</td>\n",
       "    </tr>\n",
       "    <tr>\n",
       "      <th>2799</th>\n",
       "      <td>1.403715e+09</td>\n",
       "      <td>0.00532</td>\n",
       "      <td>0.00021</td>\n",
       "      <td>0.00005</td>\n",
       "      <td>0.00378</td>\n",
       "      <td>0.00004</td>\n",
       "      <td>0.00087</td>\n",
       "      <td>0.01028</td>\n",
       "    </tr>\n",
       "  </tbody>\n",
       "</table>\n",
       "<p>2800 rows × 8 columns</p>\n",
       "</div>"
      ],
      "text/plain": [
       "      # timestamp (sec)  tracking  propagation  msckf update  slam update  \\\n",
       "0          1.403715e+09   0.00330      0.00010       0.00067      0.00000   \n",
       "1          1.403715e+09   0.00382      0.00011       0.00325      0.00000   \n",
       "2          1.403715e+09   0.00317      0.00016       0.00029      0.00241   \n",
       "3          1.403715e+09   0.00348      0.00015       0.00005      0.00228   \n",
       "4          1.403715e+09   0.00274      0.00014       0.00014      0.00237   \n",
       "...                 ...       ...          ...           ...          ...   \n",
       "2795       1.403715e+09   0.00623      0.00019       0.00010      0.00467   \n",
       "2796       1.403715e+09   0.00542      0.00024       0.00004      0.00446   \n",
       "2797       1.403715e+09   0.00445      0.00017       0.00223      0.00460   \n",
       "2798       1.403715e+09   0.00473      0.00018       0.00006      0.00538   \n",
       "2799       1.403715e+09   0.00532      0.00021       0.00005      0.00378   \n",
       "\n",
       "      slam delayed  re-tri & marg    total  \n",
       "0          0.00000        0.00025  0.00432  \n",
       "1          0.00713        0.00032  0.01463  \n",
       "2          0.00000        0.00021  0.00624  \n",
       "3          0.00000        0.00020  0.00616  \n",
       "4          0.00000        0.00021  0.00560  \n",
       "...            ...            ...      ...  \n",
       "2795       0.00101        0.00107  0.01327  \n",
       "2796       0.00128        0.00173  0.01318  \n",
       "2797       0.00312        0.00126  0.01582  \n",
       "2798       0.00000        0.00095  0.01130  \n",
       "2799       0.00004        0.00087  0.01028  \n",
       "\n",
       "[2800 rows x 8 columns]"
      ]
     },
     "execution_count": 4,
     "metadata": {},
     "output_type": "execute_result"
    }
   ],
   "source": [
    "df"
   ]
  },
  {
   "cell_type": "markdown",
   "metadata": {},
   "source": [
    "Tracking module"
   ]
  },
  {
   "cell_type": "code",
   "execution_count": 31,
   "metadata": {},
   "outputs": [
    {
     "name": "stdout",
     "output_type": "stream",
     "text": [
      "min --- avg --- max\n",
      "0.00254 --- 0.004048875 --- 0.01119\n"
     ]
    }
   ],
   "source": [
    "tracking_min, tracking_avg, tracking_ = find_timebounds(np_table,1)"
   ]
  },
  {
   "cell_type": "markdown",
   "metadata": {},
   "source": [
    "Propagation module"
   ]
  },
  {
   "cell_type": "code",
   "execution_count": 7,
   "metadata": {},
   "outputs": [
    {
     "data": {
      "text/plain": [
       "0.0"
      ]
     },
     "execution_count": 7,
     "metadata": {},
     "output_type": "execute_result"
    }
   ],
   "source": []
  },
  {
   "cell_type": "code",
   "execution_count": null,
   "metadata": {},
   "outputs": [],
   "source": []
  }
 ],
 "metadata": {
  "kernelspec": {
   "display_name": "Python 3.9.7 ('base')",
   "language": "python",
   "name": "python3"
  },
  "language_info": {
   "codemirror_mode": {
    "name": "ipython",
    "version": 3
   },
   "file_extension": ".py",
   "mimetype": "text/x-python",
   "name": "python",
   "nbconvert_exporter": "python",
   "pygments_lexer": "ipython3",
   "version": "3.9.7"
  },
  "orig_nbformat": 4,
  "vscode": {
   "interpreter": {
    "hash": "f94c67a43b9babd9522d2d2fb0eaf942652184ad081643171f2ab8e294a4b39a"
   }
  }
 },
 "nbformat": 4,
 "nbformat_minor": 2
}
